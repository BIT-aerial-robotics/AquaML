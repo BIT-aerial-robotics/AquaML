{
 "cells": [
  {
   "cell_type": "code",
   "execution_count": 1,
   "metadata": {},
   "outputs": [],
   "source": [
    "from AquaML.data.DataUnit import DataUnit\n",
    "\n",
    "a = DataUnit('test',(4,1))"
   ]
  },
  {
   "cell_type": "code",
   "execution_count": 2,
   "metadata": {},
   "outputs": [],
   "source": [
    "a.create_shared_memory()"
   ]
  },
  {
   "cell_type": "code",
   "execution_count": 3,
   "metadata": {},
   "outputs": [],
   "source": [
    "a.store(1,0)\n",
    "a.store(2,1)"
   ]
  },
  {
   "cell_type": "code",
   "execution_count": null,
   "metadata": {},
   "outputs": [],
   "source": [
    "a.close()"
   ]
  },
  {
   "attachments": {},
   "cell_type": "markdown",
   "metadata": {},
   "source": [
    "# Test data pool"
   ]
  },
  {
   "cell_type": "code",
   "execution_count": 1,
   "metadata": {},
   "outputs": [],
   "source": [
    "from AquaML.data.DataPool import DataPool\n",
    "from AquaML.DataType import DataInfo\n",
    "from AquaML.data.DataUnit import DataUnit\n",
    "import numpy as np\n",
    "\n",
    "# create test data info\n",
    "\n",
    "test_info = DataInfo(names=('test',),shapes=((4,1),),dtypes=np.float32)\n",
    "\n",
    "test = DataPool(name='test', computer_type='PC', level=0)\n",
    "\n",
    "test1_unit = DataUnit('test1',(4,1), level=0)\n",
    "\n",
    "\n",
    "test.add_unit('test1', test1_unit)\n",
    "test_info.add_info('test1', (4,1), np.float32)\n",
    "\n",
    "\n",
    "\n",
    "test.multi_init(info_dic=test_info, type='buffer')"
   ]
  },
  {
   "cell_type": "code",
   "execution_count": 2,
   "metadata": {},
   "outputs": [],
   "source": [
    "test_sub = DataPool(name='test', computer_type='PC', level=1)\n",
    "\n",
    "sub_test1_unit = DataUnit('test1')\n",
    "test_sub.add_unit('test1', sub_test1_unit)\n",
    "\n",
    "\n",
    "test_sub.multi_init(info_dic=test_info, type='buffer')"
   ]
  },
  {
   "cell_type": "code",
   "execution_count": 3,
   "metadata": {},
   "outputs": [],
   "source": [
    "test.data_pool['test1'].set_value(np.zeros((4,1))-0.5)"
   ]
  },
  {
   "cell_type": "code",
   "execution_count": 7,
   "metadata": {},
   "outputs": [
    {
     "name": "stdout",
     "output_type": "stream",
     "text": [
      "[[-0.5]\n",
      " [-0.5]\n",
      " [-0.5]\n",
      " [-0.5]]\n"
     ]
    }
   ],
   "source": [
    "print(test_sub.get_unit('test1').buffer)"
   ]
  },
  {
   "cell_type": "code",
   "execution_count": 5,
   "metadata": {},
   "outputs": [],
   "source": [
    "test_sub.close()\n"
   ]
  }
 ],
 "metadata": {
  "kernelspec": {
   "display_name": "AquaRL",
   "language": "python",
   "name": "python3"
  },
  "language_info": {
   "codemirror_mode": {
    "name": "ipython",
    "version": 3
   },
   "file_extension": ".py",
   "mimetype": "text/x-python",
   "name": "python",
   "nbconvert_exporter": "python",
   "pygments_lexer": "ipython3",
   "version": "3.8.13"
  },
  "orig_nbformat": 4,
  "vscode": {
   "interpreter": {
    "hash": "6f493c71dc42a2e2ae1c2eff269ff0741b442ab38eb0f10bb199c7b1b2b203fd"
   }
  }
 },
 "nbformat": 4,
 "nbformat_minor": 2
}
