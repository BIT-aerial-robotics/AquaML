{
 "cells": [
  {
   "cell_type": "code",
   "execution_count": 1,
   "metadata": {},
   "outputs": [],
   "source": [
    "from AquaML.data.DataUnit import DataUnit\n",
    "\n",
    "a = DataUnit('test',(4,1))"
   ]
  },
  {
   "cell_type": "code",
   "execution_count": 2,
   "metadata": {},
   "outputs": [],
   "source": [
    "a.create_shared_memory()"
   ]
  },
  {
   "cell_type": "code",
   "execution_count": 3,
   "metadata": {},
   "outputs": [],
   "source": [
    "a.store(1,0)\n",
    "a.store(2,1)"
   ]
  },
  {
   "cell_type": "code",
   "execution_count": null,
   "metadata": {},
   "outputs": [],
   "source": [
    "a.close()"
   ]
  },
  {
   "attachments": {},
   "cell_type": "markdown",
   "metadata": {},
   "source": [
    "# Test data pool"
   ]
  },
  {
   "cell_type": "code",
   "execution_count": 19,
   "metadata": {},
   "outputs": [
    {
     "ename": "FileExistsError",
     "evalue": "[WinError 183] File exists: 'test_test'",
     "output_type": "error",
     "traceback": [
      "\u001b[1;31m---------------------------------------------------------------------------\u001b[0m",
      "\u001b[1;31mFileExistsError\u001b[0m                           Traceback (most recent call last)",
      "\u001b[1;32md:\\和彩云同步文件夹\\15150026836\\AquaML\\hold.ipynb Cell 6\u001b[0m in \u001b[0;36m<cell line: 11>\u001b[1;34m()\u001b[0m\n\u001b[0;32m      <a href='vscode-notebook-cell:/d%3A/%E5%92%8C%E5%BD%A9%E4%BA%91%E5%90%8C%E6%AD%A5%E6%96%87%E4%BB%B6%E5%A4%B9/15150026836/AquaML/hold.ipynb#W5sZmlsZQ%3D%3D?line=6'>7</a>\u001b[0m test_info \u001b[39m=\u001b[39m DataInfo(names\u001b[39m=\u001b[39m(\u001b[39m'\u001b[39m\u001b[39mtest\u001b[39m\u001b[39m'\u001b[39m,),shapes\u001b[39m=\u001b[39m((\u001b[39m4\u001b[39m,\u001b[39m1\u001b[39m),),dtypes\u001b[39m=\u001b[39mnp\u001b[39m.\u001b[39mfloat32)\n\u001b[0;32m      <a href='vscode-notebook-cell:/d%3A/%E5%92%8C%E5%BD%A9%E4%BA%91%E5%90%8C%E6%AD%A5%E6%96%87%E4%BB%B6%E5%A4%B9/15150026836/AquaML/hold.ipynb#W5sZmlsZQ%3D%3D?line=8'>9</a>\u001b[0m test \u001b[39m=\u001b[39m DataPool(name\u001b[39m=\u001b[39m\u001b[39m'\u001b[39m\u001b[39mtest\u001b[39m\u001b[39m'\u001b[39m, computer_type\u001b[39m=\u001b[39m\u001b[39m'\u001b[39m\u001b[39mPC\u001b[39m\u001b[39m'\u001b[39m, level\u001b[39m=\u001b[39m\u001b[39m0\u001b[39m)\n\u001b[1;32m---> <a href='vscode-notebook-cell:/d%3A/%E5%92%8C%E5%BD%A9%E4%BA%91%E5%90%8C%E6%AD%A5%E6%96%87%E4%BB%B6%E5%A4%B9/15150026836/AquaML/hold.ipynb#W5sZmlsZQ%3D%3D?line=10'>11</a>\u001b[0m test\u001b[39m.\u001b[39;49mmulti_sync(info_dic\u001b[39m=\u001b[39;49mtest_info, \u001b[39mtype\u001b[39;49m\u001b[39m=\u001b[39;49m\u001b[39m'\u001b[39;49m\u001b[39mbuffer\u001b[39;49m\u001b[39m'\u001b[39;49m)\n",
      "File \u001b[1;32md:\\和彩云同步文件夹\\15150026836\\AquaML\\AquaML\\data\\DataPool.py:103\u001b[0m, in \u001b[0;36mDataPool.multi_sync\u001b[1;34m(self, info_dic, type)\u001b[0m\n\u001b[0;32m    101\u001b[0m     \u001b[39mself\u001b[39m\u001b[39m.\u001b[39mcreate_buffer_from_dic(info_dic)\n\u001b[0;32m    102\u001b[0m     \u001b[39mif\u001b[39;00m \u001b[39mself\u001b[39m\u001b[39m.\u001b[39m_computer_type \u001b[39m==\u001b[39m \u001b[39m'\u001b[39m\u001b[39mPC\u001b[39m\u001b[39m'\u001b[39m:\n\u001b[1;32m--> 103\u001b[0m         \u001b[39mself\u001b[39;49m\u001b[39m.\u001b[39;49mcreate_share_memory()\n\u001b[0;32m    104\u001b[0m \u001b[39melse\u001b[39;00m:\n\u001b[0;32m    105\u001b[0m     \u001b[39mself\u001b[39m\u001b[39m.\u001b[39mread_shared_memory(info_dic)\n",
      "File \u001b[1;32md:\\和彩云同步文件夹\\15150026836\\AquaML\\AquaML\\data\\DataPool.py:50\u001b[0m, in \u001b[0;36mDataPool.create_share_memory\u001b[1;34m(self)\u001b[0m\n\u001b[0;32m     47\u001b[0m \u001b[39m\u001b[39m\u001b[39m\"\"\"create shared memory!\u001b[39;00m\n\u001b[0;32m     48\u001b[0m \u001b[39m\"\"\"\u001b[39;00m\n\u001b[0;32m     49\u001b[0m \u001b[39mfor\u001b[39;00m key, data_unit \u001b[39min\u001b[39;00m \u001b[39mself\u001b[39m\u001b[39m.\u001b[39mdata_pool\u001b[39m.\u001b[39mitems():\n\u001b[1;32m---> 50\u001b[0m     data_unit\u001b[39m.\u001b[39;49mcreate_shared_memory()\n",
      "File \u001b[1;32md:\\和彩云同步文件夹\\15150026836\\AquaML\\AquaML\\data\\DataUnit.py:76\u001b[0m, in \u001b[0;36mDataUnit.create_shared_memory\u001b[1;34m(self)\u001b[0m\n\u001b[0;32m     73\u001b[0m     warnings\u001b[39m.\u001b[39mwarn(\u001b[39m\"\u001b[39m\u001b[39mHPC can\u001b[39m\u001b[39m'\u001b[39m\u001b[39mt support shared memory!\u001b[39m\u001b[39m\"\u001b[39m)\n\u001b[0;32m     75\u001b[0m \u001b[39mif\u001b[39;00m \u001b[39mself\u001b[39m\u001b[39m.\u001b[39mlevel \u001b[39m==\u001b[39m \u001b[39m0\u001b[39m:\n\u001b[1;32m---> 76\u001b[0m     \u001b[39mself\u001b[39m\u001b[39m.\u001b[39mshm_buffer \u001b[39m=\u001b[39m shared_memory\u001b[39m.\u001b[39;49mSharedMemory(create\u001b[39m=\u001b[39;49m\u001b[39mTrue\u001b[39;49;00m, size\u001b[39m=\u001b[39;49m\u001b[39mself\u001b[39;49m\u001b[39m.\u001b[39;49m__nbytes, name\u001b[39m=\u001b[39;49m\u001b[39mself\u001b[39;49m\u001b[39m.\u001b[39;49mname)\n\u001b[0;32m     77\u001b[0m     \u001b[39mself\u001b[39m\u001b[39m.\u001b[39mbuffer \u001b[39m=\u001b[39m np\u001b[39m.\u001b[39mndarray(\u001b[39mself\u001b[39m\u001b[39m.\u001b[39m_shape, dtype\u001b[39m=\u001b[39m\u001b[39mself\u001b[39m\u001b[39m.\u001b[39mdtype, buffer\u001b[39m=\u001b[39m\u001b[39mself\u001b[39m\u001b[39m.\u001b[39mshm_buffer\u001b[39m.\u001b[39mbuf)\n\u001b[0;32m     78\u001b[0m \u001b[39melse\u001b[39;00m:\n",
      "File \u001b[1;32mc:\\Users\\29184\\anaconda3\\envs\\AquaRL\\lib\\multiprocessing\\shared_memory.py:142\u001b[0m, in \u001b[0;36mSharedMemory.__init__\u001b[1;34m(self, name, create, size)\u001b[0m\n\u001b[0;32m    140\u001b[0m \u001b[39mif\u001b[39;00m last_error_code \u001b[39m==\u001b[39m _winapi\u001b[39m.\u001b[39mERROR_ALREADY_EXISTS:\n\u001b[0;32m    141\u001b[0m     \u001b[39mif\u001b[39;00m name \u001b[39mis\u001b[39;00m \u001b[39mnot\u001b[39;00m \u001b[39mNone\u001b[39;00m:\n\u001b[1;32m--> 142\u001b[0m         \u001b[39mraise\u001b[39;00m \u001b[39mFileExistsError\u001b[39;00m(\n\u001b[0;32m    143\u001b[0m             errno\u001b[39m.\u001b[39mEEXIST,\n\u001b[0;32m    144\u001b[0m             os\u001b[39m.\u001b[39mstrerror(errno\u001b[39m.\u001b[39mEEXIST),\n\u001b[0;32m    145\u001b[0m             name,\n\u001b[0;32m    146\u001b[0m             _winapi\u001b[39m.\u001b[39mERROR_ALREADY_EXISTS\n\u001b[0;32m    147\u001b[0m         )\n\u001b[0;32m    148\u001b[0m     \u001b[39melse\u001b[39;00m:\n\u001b[0;32m    149\u001b[0m         \u001b[39mcontinue\u001b[39;00m\n",
      "\u001b[1;31mFileExistsError\u001b[0m: [WinError 183] File exists: 'test_test'"
     ]
    }
   ],
   "source": [
    "from AquaML.data.DataPool import DataPool\n",
    "from AquaML.DataType import DataInfo\n",
    "import numpy as np\n",
    "\n",
    "# create test data info\n",
    "\n",
    "test_info = DataInfo(names=('test',),shapes=((4,1),),dtypes=np.float32)\n",
    "\n",
    "test = DataPool(name='test', computer_type='PC', level=0)\n",
    "\n",
    "test.multi_sync(info_dic=test_info, type='buffer')"
   ]
  },
  {
   "cell_type": "code",
   "execution_count": 14,
   "metadata": {},
   "outputs": [],
   "source": [
    "test_sub = DataPool(name='test', computer_type='PC', level=1)\n",
    "\n",
    "test_sub.multi_sync(info_dic=test_info, type='buffer')"
   ]
  },
  {
   "cell_type": "code",
   "execution_count": 15,
   "metadata": {},
   "outputs": [
    {
     "name": "stdout",
     "output_type": "stream",
     "text": [
      "[[0.]\n",
      " [0.]\n",
      " [0.]\n",
      " [0.]]\n"
     ]
    }
   ],
   "source": [
    "print(test_sub.data_pool['test'].buffer)"
   ]
  },
  {
   "cell_type": "code",
   "execution_count": 18,
   "metadata": {},
   "outputs": [],
   "source": [
    "test.close()"
   ]
  }
 ],
 "metadata": {
  "kernelspec": {
   "display_name": "AquaRL",
   "language": "python",
   "name": "python3"
  },
  "language_info": {
   "codemirror_mode": {
    "name": "ipython",
    "version": 3
   },
   "file_extension": ".py",
   "mimetype": "text/x-python",
   "name": "python",
   "nbconvert_exporter": "python",
   "pygments_lexer": "ipython3",
   "version": "3.8.13"
  },
  "orig_nbformat": 4,
  "vscode": {
   "interpreter": {
    "hash": "6f493c71dc42a2e2ae1c2eff269ff0741b442ab38eb0f10bb199c7b1b2b203fd"
   }
  }
 },
 "nbformat": 4,
 "nbformat_minor": 2
}
