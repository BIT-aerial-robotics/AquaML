{
 "cells": [
  {
   "cell_type": "code",
   "execution_count": 1,
   "metadata": {},
   "outputs": [
    {
     "ename": "ModuleNotFoundError",
     "evalue": "No module named 'AquaML'",
     "output_type": "error",
     "traceback": [
      "\u001B[0;31m---------------------------------------------------------------------------\u001B[0m",
      "\u001B[0;31mModuleNotFoundError\u001B[0m                       Traceback (most recent call last)",
      "\u001B[1;32md:\\和彩云同步文件夹\\15150026836\\AquaML\\hold.ipynb 单元格 1\u001B[0m in \u001B[0;36m<cell line: 1>\u001B[0;34m()\u001B[0m\n\u001B[0;32m----> <a href='vscode-notebook-cell:/d%3A/%E5%92%8C%E5%BD%A9%E4%BA%91%E5%90%8C%E6%AD%A5%E6%96%87%E4%BB%B6%E5%A4%B9/15150026836/AquaML/hold.ipynb#W0sZmlsZQ%3D%3D?line=0'>1</a>\u001B[0m \u001B[39mfrom\u001B[39;00m \u001B[39mAquaML\u001B[39;00m\u001B[39m.\u001B[39;00m\u001B[39mdata\u001B[39;00m\u001B[39m.\u001B[39;00m\u001B[39mDataUnit\u001B[39;00m \u001B[39mimport\u001B[39;00m DataUnit\n\u001B[1;32m      <a href='vscode-notebook-cell:/d%3A/%E5%92%8C%E5%BD%A9%E4%BA%91%E5%90%8C%E6%AD%A5%E6%96%87%E4%BB%B6%E5%A4%B9/15150026836/AquaML/hold.ipynb#W0sZmlsZQ%3D%3D?line=2'>3</a>\u001B[0m a \u001B[39m=\u001B[39m DataUnit(\u001B[39m'\u001B[39m\u001B[39mtest\u001B[39m\u001B[39m'\u001B[39m,(\u001B[39m4\u001B[39m,\u001B[39m1\u001B[39m))\n",
      "\u001B[0;31mModuleNotFoundError\u001B[0m: No module named 'AquaML'"
     ]
    }
   ],
   "source": [
    "from AquaML.data.DataUnit import DataUnit\n",
    "\n",
    "a = DataUnit('test',(4,1))"
   ]
  },
  {
   "cell_type": "code",
   "execution_count": 2,
   "metadata": {},
   "outputs": [],
   "source": [
    "a.create_shared_memory()"
   ]
  },
  {
   "cell_type": "code",
   "execution_count": 3,
   "metadata": {},
   "outputs": [],
   "source": [
    "a.store(1,0)\n",
    "a.store(2,1)"
   ]
  },
  {
   "cell_type": "code",
   "execution_count": null,
   "metadata": {},
   "outputs": [],
   "source": [
    "a.close()"
   ]
  },
  {
   "attachments": {},
   "cell_type": "markdown",
   "metadata": {},
   "source": [
    "# Test data pool"
   ]
  },
  {
   "cell_type": "code",
   "execution_count": 1,
   "metadata": {},
   "outputs": [],
   "source": [
    "from AquaML.data.DataPool import DataPool\n",
    "from AquaML.DataType import DataInfo\n",
    "from AquaML.data.DataUnit import DataUnit\n",
    "import numpy as np\n",
    "\n",
    "# create test data info\n",
    "\n",
    "test_info = DataInfo(names=('test',),shapes=((4,1),),dtypes=np.float32)\n",
    "\n",
    "test = DataPool(name='test', computer_type='PC', level=0)\n",
    "\n",
    "test1_unit = DataUnit('test1',(4,1), level=0)\n",
    "\n",
    "\n",
    "test.add_unit('test1', test1_unit)\n",
    "test_info.add_info('test1', (4,1), np.float32)\n",
    "\n",
    "\n",
    "\n",
    "test.multi_init(info_dic=test_info, type='buffer')"
   ]
  },
  {
   "cell_type": "code",
   "execution_count": 2,
   "metadata": {},
   "outputs": [],
   "source": [
    "test_sub = DataPool(name='test', computer_type='PC', level=1)\n",
    "\n",
    "sub_test1_unit = DataUnit('test1')\n",
    "test_sub.add_unit('test1', sub_test1_unit)\n",
    "\n",
    "\n",
    "test_sub.multi_init(info_dic=test_info, type='buffer')"
   ]
  },
  {
   "cell_type": "code",
   "execution_count": 3,
   "metadata": {},
   "outputs": [],
   "source": [
    "test.data_pool['test1'].set_value(np.zeros((4,1))-0.5)"
   ]
  },
  {
   "cell_type": "code",
   "execution_count": 7,
   "metadata": {},
   "outputs": [
    {
     "name": "stdout",
     "output_type": "stream",
     "text": [
      "[[-0.5]\n",
      " [-0.5]\n",
      " [-0.5]\n",
      " [-0.5]]\n"
     ]
    }
   ],
   "source": [
    "print(test_sub.get_unit('test1').buffer)"
   ]
  },
  {
   "cell_type": "code",
   "execution_count": 5,
   "metadata": {},
   "outputs": [],
   "source": [
    "test_sub.close()\n"
   ]
  },
  {
   "cell_type": "code",
   "execution_count": 2,
   "metadata": {},
   "outputs": [
    {
     "ename": "ImportError",
     "evalue": "cannot import name 'BaseRLalgo' from partially initialized module 'AquaML.rlalgo.BaseRLAlgo' (most likely due to a circular import) (d:\\和彩云同步文件夹\\15150026836\\AquaML\\AquaML\\rlalgo\\BaseRLAlgo.py)",
     "output_type": "error",
     "traceback": [
      "\u001B[1;31m---------------------------------------------------------------------------\u001B[0m",
      "\u001B[1;31mImportError\u001B[0m                               Traceback (most recent call last)",
      "\u001B[1;32md:\\和彩云同步文件夹\\15150026836\\AquaML\\hold.ipynb Cell 11\u001B[0m in \u001B[0;36m<cell line: 1>\u001B[1;34m()\u001B[0m\n\u001B[1;32m----> <a href='vscode-notebook-cell:/d%3A/%E5%92%8C%E5%BD%A9%E4%BA%91%E5%90%8C%E6%AD%A5%E6%96%87%E4%BB%B6%E5%A4%B9/15150026836/AquaML/hold.ipynb#X13sZmlsZQ%3D%3D?line=0'>1</a>\u001B[0m \u001B[39mfrom\u001B[39;00m \u001B[39mAquaML\u001B[39;00m\u001B[39m.\u001B[39;00m\u001B[39mrlalgo\u001B[39;00m \u001B[39mimport\u001B[39;00m SAC2\n\u001B[0;32m      <a href='vscode-notebook-cell:/d%3A/%E5%92%8C%E5%BD%A9%E4%BA%91%E5%90%8C%E6%AD%A5%E6%96%87%E4%BB%B6%E5%A4%B9/15150026836/AquaML/hold.ipynb#X13sZmlsZQ%3D%3D?line=2'>3</a>\u001B[0m sac \u001B[39m=\u001B[39m SAC2()\n",
      "File \u001B[1;32md:\\和彩云同步文件夹\\15150026836\\AquaML\\AquaML\\rlalgo\\SAC2.py:1\u001B[0m, in \u001B[0;36m<module>\u001B[1;34m\u001B[0m\n\u001B[1;32m----> 1\u001B[0m \u001B[39mfrom\u001B[39;00m \u001B[39mAquaML\u001B[39;00m\u001B[39m.\u001B[39;00m\u001B[39mrlalgo\u001B[39;00m\u001B[39m.\u001B[39;00m\u001B[39mBaseRLAlgo\u001B[39;00m \u001B[39mimport\u001B[39;00m BaseRLAlgo\n\u001B[0;32m      2\u001B[0m \u001B[39mfrom\u001B[39;00m \u001B[39mAquaML\u001B[39;00m\u001B[39m.\u001B[39;00m\u001B[39mDataType\u001B[39;00m \u001B[39mimport\u001B[39;00m RLIOInfo\n\u001B[0;32m      3\u001B[0m \u001B[39mfrom\u001B[39;00m \u001B[39mAquaML\u001B[39;00m\u001B[39m.\u001B[39;00m\u001B[39mrlalgo\u001B[39;00m\u001B[39m.\u001B[39;00m\u001B[39mParameters\u001B[39;00m \u001B[39mimport\u001B[39;00m SAC2_parameter\n",
      "File \u001B[1;32md:\\和彩云同步文件夹\\15150026836\\AquaML\\AquaML\\rlalgo\\BaseRLAlgo.py:7\u001B[0m, in \u001B[0;36m<module>\u001B[1;34m\u001B[0m\n\u001B[0;32m      5\u001B[0m \u001B[39mfrom\u001B[39;00m \u001B[39mAquaML\u001B[39;00m\u001B[39m.\u001B[39;00m\u001B[39mdata\u001B[39;00m\u001B[39m.\u001B[39;00m\u001B[39mDataUnit\u001B[39;00m \u001B[39mimport\u001B[39;00m DataUnit\n\u001B[0;32m      6\u001B[0m \u001B[39mfrom\u001B[39;00m \u001B[39mAquaML\u001B[39;00m\u001B[39m.\u001B[39;00m\u001B[39mrlalgo\u001B[39;00m \u001B[39mimport\u001B[39;00m ExplorePolicy\n\u001B[1;32m----> 7\u001B[0m \u001B[39mfrom\u001B[39;00m \u001B[39mAquaML\u001B[39;00m\u001B[39m.\u001B[39;00m\u001B[39mtool\u001B[39;00m\u001B[39m.\u001B[39;00m\u001B[39mRLWorker\u001B[39;00m \u001B[39mimport\u001B[39;00m RLWorker\n\u001B[0;32m      8\u001B[0m \u001B[39mfrom\u001B[39;00m \u001B[39mAquaML\u001B[39;00m\u001B[39m.\u001B[39;00m\u001B[39mBaseClass\u001B[39;00m \u001B[39mimport\u001B[39;00m BaseAlgo\n\u001B[0;32m      9\u001B[0m \u001B[39mimport\u001B[39;00m \u001B[39mnumpy\u001B[39;00m \u001B[39mas\u001B[39;00m \u001B[39mnp\u001B[39;00m\n",
      "File \u001B[1;32md:\\和彩云同步文件夹\\15150026836\\AquaML\\AquaML\\tool\\RLWorker.py:6\u001B[0m, in \u001B[0;36m<module>\u001B[1;34m\u001B[0m\n\u001B[0;32m      2\u001B[0m \u001B[39mfrom\u001B[39;00m \u001B[39mAquaML\u001B[39;00m\u001B[39m.\u001B[39;00m\u001B[39mDataType\u001B[39;00m \u001B[39mimport\u001B[39;00m RLIOInfo \n\u001B[0;32m      4\u001B[0m \u001B[39m#TODO: remove in the future\u001B[39;00m\n\u001B[0;32m      5\u001B[0m \u001B[39m#TODO: 太过于复杂，需要重构\u001B[39;00m\n\u001B[1;32m----> 6\u001B[0m \u001B[39mfrom\u001B[39;00m \u001B[39mAquaML\u001B[39;00m\u001B[39m.\u001B[39;00m\u001B[39mrlalgo\u001B[39;00m\u001B[39m.\u001B[39;00m\u001B[39mBaseRLAlgo\u001B[39;00m \u001B[39mimport\u001B[39;00m BaseRLalgo \n\u001B[0;32m      8\u001B[0m \u001B[39mclass\u001B[39;00m \u001B[39mRLWorker\u001B[39;00m:\n\u001B[0;32m     10\u001B[0m \u001B[39m    \u001B[39m\u001B[39m\"\"\" RLWorker is used to interact with environment and get data.\u001B[39;00m\n\u001B[0;32m     11\u001B[0m \u001B[39m    \u001B[39;00m\n\u001B[0;32m     12\u001B[0m \u001B[39m    It can be used in on-policy and off-policy reinforcement learning.\u001B[39;00m\n\u001B[0;32m     13\u001B[0m \u001B[39m    \u001B[39;00m\n\u001B[0;32m     14\u001B[0m \u001B[39m    \"\"\"\u001B[39;00m\n",
      "\u001B[1;31mImportError\u001B[0m: cannot import name 'BaseRLalgo' from partially initialized module 'AquaML.rlalgo.BaseRLAlgo' (most likely due to a circular import) (d:\\和彩云同步文件夹\\15150026836\\AquaML\\AquaML\\rlalgo\\BaseRLAlgo.py)"
     ]
    }
   ],
   "source": [
    "from AquaML.rlalgo import SAC2\n",
    "\n",
    "sac = SAC2()"
   ]
  },
  {
   "cell_type": "markdown",
   "source": [
    "# Test"
   ],
   "metadata": {
    "collapsed": false
   }
  },
  {
   "cell_type": "code",
   "execution_count": 4,
   "outputs": [
    {
     "ename": "TypeError",
     "evalue": "object of type 'slice' has no len()",
     "output_type": "error",
     "traceback": [
      "\u001B[1;31m---------------------------------------------------------------------------\u001B[0m",
      "\u001B[1;31mTypeError\u001B[0m                                 Traceback (most recent call last)",
      "Input \u001B[1;32mIn [4]\u001B[0m, in \u001B[0;36m<cell line: 6>\u001B[1;34m()\u001B[0m\n\u001B[0;32m      3\u001B[0m a \u001B[38;5;241m=\u001B[39m np\u001B[38;5;241m.\u001B[39marray([\u001B[38;5;241m1\u001B[39m,\u001B[38;5;241m2\u001B[39m,\u001B[38;5;241m3\u001B[39m,\u001B[38;5;241m4\u001B[39m,\u001B[38;5;241m5\u001B[39m,\u001B[38;5;241m6\u001B[39m,\u001B[38;5;241m7\u001B[39m,\u001B[38;5;241m8\u001B[39m,\u001B[38;5;241m9\u001B[39m,\u001B[38;5;241m10\u001B[39m])\n\u001B[0;32m      4\u001B[0m index_slice \u001B[38;5;241m=\u001B[39m \u001B[38;5;28mslice\u001B[39m(\u001B[38;5;241m0\u001B[39m, \u001B[38;5;241m2\u001B[39m)\n\u001B[1;32m----> 6\u001B[0m \u001B[38;5;28mprint\u001B[39m(\u001B[38;5;28;43mlen\u001B[39;49m\u001B[43m(\u001B[49m\u001B[43mindex_slice\u001B[49m\u001B[43m)\u001B[49m)\n\u001B[0;32m      7\u001B[0m \u001B[38;5;28mprint\u001B[39m(a[index_slice])\n\u001B[0;32m      8\u001B[0m \u001B[38;5;28mprint\u001B[39m(index_slice)\n",
      "\u001B[1;31mTypeError\u001B[0m: object of type 'slice' has no len()"
     ]
    }
   ],
   "source": [
    "import numpy as np\n",
    "\n",
    "a = np.array([1,2,3,4,5,6,7,8,9,10])\n",
    "index_slice = slice(0, 2)\n",
    "\n",
    "print(len(index_slice))\n",
    "print(a[index_slice])\n",
    "print(index_slice)"
   ],
   "metadata": {
    "collapsed": false,
    "ExecuteTime": {
     "end_time": "2023-06-24T03:21:37.551857500Z",
     "start_time": "2023-06-24T03:21:36.480656500Z"
    }
   }
  },
  {
   "cell_type": "markdown",
   "source": [
    "# concate"
   ],
   "metadata": {
    "collapsed": false
   }
  },
  {
   "cell_type": "code",
   "execution_count": 5,
   "outputs": [
    {
     "name": "stdout",
     "output_type": "stream",
     "text": [
      "(9, 1)\n"
     ]
    }
   ],
   "source": [
    "import numpy as np\n",
    "\n",
    "a = [np.ones((4,1)), np.ones((3,1)), np.zeros((2,1))]\n",
    "\n",
    "d = np.concatenate(a, axis=0)\n",
    "\n",
    "print(d.shape)"
   ],
   "metadata": {
    "collapsed": false,
    "ExecuteTime": {
     "end_time": "2023-06-26T05:44:37.358983300Z",
     "start_time": "2023-06-26T05:44:37.318979200Z"
    }
   }
  }
 ],
 "metadata": {
  "kernelspec": {
   "display_name": "Python 3 (ipykernel)",
   "language": "python",
   "name": "python3"
  },
  "language_info": {
   "codemirror_mode": {
    "name": "ipython",
    "version": 3
   },
   "file_extension": ".py",
   "mimetype": "text/x-python",
   "name": "python",
   "nbconvert_exporter": "python",
   "pygments_lexer": "ipython3",
   "version": "3.8.12"
  },
  "orig_nbformat": 4,
  "vscode": {
   "interpreter": {
    "hash": "6f493c71dc42a2e2ae1c2eff269ff0741b442ab38eb0f10bb199c7b1b2b203fd"
   }
  }
 },
 "nbformat": 4,
 "nbformat_minor": 2
}
