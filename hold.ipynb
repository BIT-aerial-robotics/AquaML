{
 "cells": [
  {
   "cell_type": "code",
   "execution_count": 1,
   "metadata": {},
   "outputs": [
    {
     "ename": "ModuleNotFoundError",
     "evalue": "No module named 'AquaML'",
     "output_type": "error",
     "traceback": [
      "\u001b[0;31m---------------------------------------------------------------------------\u001b[0m",
      "\u001b[0;31mModuleNotFoundError\u001b[0m                       Traceback (most recent call last)",
      "\u001b[1;32md:\\和彩云同步文件夹\\15150026836\\AquaML\\hold.ipynb 单元格 1\u001b[0m in \u001b[0;36m<cell line: 1>\u001b[0;34m()\u001b[0m\n\u001b[0;32m----> <a href='vscode-notebook-cell:/d%3A/%E5%92%8C%E5%BD%A9%E4%BA%91%E5%90%8C%E6%AD%A5%E6%96%87%E4%BB%B6%E5%A4%B9/15150026836/AquaML/hold.ipynb#W0sZmlsZQ%3D%3D?line=0'>1</a>\u001b[0m \u001b[39mfrom\u001b[39;00m \u001b[39mAquaML\u001b[39;00m\u001b[39m.\u001b[39;00m\u001b[39mdata\u001b[39;00m\u001b[39m.\u001b[39;00m\u001b[39mDataUnit\u001b[39;00m \u001b[39mimport\u001b[39;00m DataUnit\n\u001b[1;32m      <a href='vscode-notebook-cell:/d%3A/%E5%92%8C%E5%BD%A9%E4%BA%91%E5%90%8C%E6%AD%A5%E6%96%87%E4%BB%B6%E5%A4%B9/15150026836/AquaML/hold.ipynb#W0sZmlsZQ%3D%3D?line=2'>3</a>\u001b[0m a \u001b[39m=\u001b[39m DataUnit(\u001b[39m'\u001b[39m\u001b[39mtest\u001b[39m\u001b[39m'\u001b[39m,(\u001b[39m4\u001b[39m,\u001b[39m1\u001b[39m))\n",
      "\u001b[0;31mModuleNotFoundError\u001b[0m: No module named 'AquaML'"
     ]
    }
   ],
   "source": [
    "from AquaML.data.DataUnit import DataUnit\n",
    "\n",
    "a = DataUnit('test',(4,1))"
   ]
  },
  {
   "cell_type": "code",
   "execution_count": 2,
   "metadata": {},
   "outputs": [],
   "source": [
    "a.create_shared_memory()"
   ]
  },
  {
   "cell_type": "code",
   "execution_count": 3,
   "metadata": {},
   "outputs": [],
   "source": [
    "a.store(1,0)\n",
    "a.store(2,1)"
   ]
  },
  {
   "cell_type": "code",
   "execution_count": null,
   "metadata": {},
   "outputs": [],
   "source": [
    "a.close()"
   ]
  },
  {
   "attachments": {},
   "cell_type": "markdown",
   "metadata": {},
   "source": [
    "# Test data pool"
   ]
  },
  {
   "cell_type": "code",
   "execution_count": 1,
   "metadata": {},
   "outputs": [],
   "source": [
    "from AquaML.data.DataPool import DataPool\n",
    "from AquaML.DataType import DataInfo\n",
    "from AquaML.data.DataUnit import DataUnit\n",
    "import numpy as np\n",
    "\n",
    "# create test data info\n",
    "\n",
    "test_info = DataInfo(names=('test',),shapes=((4,1),),dtypes=np.float32)\n",
    "\n",
    "test = DataPool(name='test', computer_type='PC', level=0)\n",
    "\n",
    "test1_unit = DataUnit('test1',(4,1), level=0)\n",
    "\n",
    "\n",
    "test.add_unit('test1', test1_unit)\n",
    "test_info.add_info('test1', (4,1), np.float32)\n",
    "\n",
    "\n",
    "\n",
    "test.multi_init(info_dic=test_info, type='buffer')"
   ]
  },
  {
   "cell_type": "code",
   "execution_count": 2,
   "metadata": {},
   "outputs": [],
   "source": [
    "test_sub = DataPool(name='test', computer_type='PC', level=1)\n",
    "\n",
    "sub_test1_unit = DataUnit('test1')\n",
    "test_sub.add_unit('test1', sub_test1_unit)\n",
    "\n",
    "\n",
    "test_sub.multi_init(info_dic=test_info, type='buffer')"
   ]
  },
  {
   "cell_type": "code",
   "execution_count": 3,
   "metadata": {},
   "outputs": [],
   "source": [
    "test.data_pool['test1'].set_value(np.zeros((4,1))-0.5)"
   ]
  },
  {
   "cell_type": "code",
   "execution_count": 7,
   "metadata": {},
   "outputs": [
    {
     "name": "stdout",
     "output_type": "stream",
     "text": [
      "[[-0.5]\n",
      " [-0.5]\n",
      " [-0.5]\n",
      " [-0.5]]\n"
     ]
    }
   ],
   "source": [
    "print(test_sub.get_unit('test1').buffer)"
   ]
  },
  {
   "cell_type": "code",
   "execution_count": 5,
   "metadata": {},
   "outputs": [],
   "source": [
    "test_sub.close()\n"
   ]
  },
  {
   "cell_type": "code",
   "execution_count": 2,
   "metadata": {},
   "outputs": [
    {
     "ename": "ImportError",
     "evalue": "cannot import name 'BaseRLalgo' from partially initialized module 'AquaML.rlalgo.BaseRLAlgo' (most likely due to a circular import) (d:\\和彩云同步文件夹\\15150026836\\AquaML\\AquaML\\rlalgo\\BaseRLAlgo.py)",
     "output_type": "error",
     "traceback": [
      "\u001b[1;31m---------------------------------------------------------------------------\u001b[0m",
      "\u001b[1;31mImportError\u001b[0m                               Traceback (most recent call last)",
      "\u001b[1;32md:\\和彩云同步文件夹\\15150026836\\AquaML\\hold.ipynb Cell 11\u001b[0m in \u001b[0;36m<cell line: 1>\u001b[1;34m()\u001b[0m\n\u001b[1;32m----> <a href='vscode-notebook-cell:/d%3A/%E5%92%8C%E5%BD%A9%E4%BA%91%E5%90%8C%E6%AD%A5%E6%96%87%E4%BB%B6%E5%A4%B9/15150026836/AquaML/hold.ipynb#X13sZmlsZQ%3D%3D?line=0'>1</a>\u001b[0m \u001b[39mfrom\u001b[39;00m \u001b[39mAquaML\u001b[39;00m\u001b[39m.\u001b[39;00m\u001b[39mrlalgo\u001b[39;00m \u001b[39mimport\u001b[39;00m SAC2\n\u001b[0;32m      <a href='vscode-notebook-cell:/d%3A/%E5%92%8C%E5%BD%A9%E4%BA%91%E5%90%8C%E6%AD%A5%E6%96%87%E4%BB%B6%E5%A4%B9/15150026836/AquaML/hold.ipynb#X13sZmlsZQ%3D%3D?line=2'>3</a>\u001b[0m sac \u001b[39m=\u001b[39m SAC2()\n",
      "File \u001b[1;32md:\\和彩云同步文件夹\\15150026836\\AquaML\\AquaML\\rlalgo\\SAC2.py:1\u001b[0m, in \u001b[0;36m<module>\u001b[1;34m\u001b[0m\n\u001b[1;32m----> 1\u001b[0m \u001b[39mfrom\u001b[39;00m \u001b[39mAquaML\u001b[39;00m\u001b[39m.\u001b[39;00m\u001b[39mrlalgo\u001b[39;00m\u001b[39m.\u001b[39;00m\u001b[39mBaseRLAlgo\u001b[39;00m \u001b[39mimport\u001b[39;00m BaseRLAlgo\n\u001b[0;32m      2\u001b[0m \u001b[39mfrom\u001b[39;00m \u001b[39mAquaML\u001b[39;00m\u001b[39m.\u001b[39;00m\u001b[39mDataType\u001b[39;00m \u001b[39mimport\u001b[39;00m RLIOInfo\n\u001b[0;32m      3\u001b[0m \u001b[39mfrom\u001b[39;00m \u001b[39mAquaML\u001b[39;00m\u001b[39m.\u001b[39;00m\u001b[39mrlalgo\u001b[39;00m\u001b[39m.\u001b[39;00m\u001b[39mParameters\u001b[39;00m \u001b[39mimport\u001b[39;00m SAC2_parameter\n",
      "File \u001b[1;32md:\\和彩云同步文件夹\\15150026836\\AquaML\\AquaML\\rlalgo\\BaseRLAlgo.py:7\u001b[0m, in \u001b[0;36m<module>\u001b[1;34m\u001b[0m\n\u001b[0;32m      5\u001b[0m \u001b[39mfrom\u001b[39;00m \u001b[39mAquaML\u001b[39;00m\u001b[39m.\u001b[39;00m\u001b[39mdata\u001b[39;00m\u001b[39m.\u001b[39;00m\u001b[39mDataUnit\u001b[39;00m \u001b[39mimport\u001b[39;00m DataUnit\n\u001b[0;32m      6\u001b[0m \u001b[39mfrom\u001b[39;00m \u001b[39mAquaML\u001b[39;00m\u001b[39m.\u001b[39;00m\u001b[39mrlalgo\u001b[39;00m \u001b[39mimport\u001b[39;00m ExplorePolicy\n\u001b[1;32m----> 7\u001b[0m \u001b[39mfrom\u001b[39;00m \u001b[39mAquaML\u001b[39;00m\u001b[39m.\u001b[39;00m\u001b[39mtool\u001b[39;00m\u001b[39m.\u001b[39;00m\u001b[39mRLWorker\u001b[39;00m \u001b[39mimport\u001b[39;00m RLWorker\n\u001b[0;32m      8\u001b[0m \u001b[39mfrom\u001b[39;00m \u001b[39mAquaML\u001b[39;00m\u001b[39m.\u001b[39;00m\u001b[39mBaseClass\u001b[39;00m \u001b[39mimport\u001b[39;00m BaseAlgo\n\u001b[0;32m      9\u001b[0m \u001b[39mimport\u001b[39;00m \u001b[39mnumpy\u001b[39;00m \u001b[39mas\u001b[39;00m \u001b[39mnp\u001b[39;00m\n",
      "File \u001b[1;32md:\\和彩云同步文件夹\\15150026836\\AquaML\\AquaML\\tool\\RLWorker.py:6\u001b[0m, in \u001b[0;36m<module>\u001b[1;34m\u001b[0m\n\u001b[0;32m      2\u001b[0m \u001b[39mfrom\u001b[39;00m \u001b[39mAquaML\u001b[39;00m\u001b[39m.\u001b[39;00m\u001b[39mDataType\u001b[39;00m \u001b[39mimport\u001b[39;00m RLIOInfo \n\u001b[0;32m      4\u001b[0m \u001b[39m#TODO: remove in the future\u001b[39;00m\n\u001b[0;32m      5\u001b[0m \u001b[39m#TODO: 太过于复杂，需要重构\u001b[39;00m\n\u001b[1;32m----> 6\u001b[0m \u001b[39mfrom\u001b[39;00m \u001b[39mAquaML\u001b[39;00m\u001b[39m.\u001b[39;00m\u001b[39mrlalgo\u001b[39;00m\u001b[39m.\u001b[39;00m\u001b[39mBaseRLAlgo\u001b[39;00m \u001b[39mimport\u001b[39;00m BaseRLalgo \n\u001b[0;32m      8\u001b[0m \u001b[39mclass\u001b[39;00m \u001b[39mRLWorker\u001b[39;00m:\n\u001b[0;32m     10\u001b[0m \u001b[39m    \u001b[39m\u001b[39m\"\"\" RLWorker is used to interact with environment and get data.\u001b[39;00m\n\u001b[0;32m     11\u001b[0m \u001b[39m    \u001b[39;00m\n\u001b[0;32m     12\u001b[0m \u001b[39m    It can be used in on-policy and off-policy reinforcement learning.\u001b[39;00m\n\u001b[0;32m     13\u001b[0m \u001b[39m    \u001b[39;00m\n\u001b[0;32m     14\u001b[0m \u001b[39m    \"\"\"\u001b[39;00m\n",
      "\u001b[1;31mImportError\u001b[0m: cannot import name 'BaseRLalgo' from partially initialized module 'AquaML.rlalgo.BaseRLAlgo' (most likely due to a circular import) (d:\\和彩云同步文件夹\\15150026836\\AquaML\\AquaML\\rlalgo\\BaseRLAlgo.py)"
     ]
    }
   ],
   "source": [
    "from AquaML.rlalgo import SAC2\n",
    "\n",
    "sac = SAC2()"
   ]
  },
  {
   "cell_type": "markdown",
   "metadata": {
    "collapsed": false
   },
   "source": [
    "# Test"
   ]
  },
  {
   "cell_type": "code",
   "execution_count": 4,
   "metadata": {
    "ExecuteTime": {
     "end_time": "2023-06-24T03:21:37.551857500Z",
     "start_time": "2023-06-24T03:21:36.480656500Z"
    },
    "collapsed": false
   },
   "outputs": [
    {
     "ename": "TypeError",
     "evalue": "object of type 'slice' has no len()",
     "output_type": "error",
     "traceback": [
      "\u001b[1;31m---------------------------------------------------------------------------\u001b[0m",
      "\u001b[1;31mTypeError\u001b[0m                                 Traceback (most recent call last)",
      "Input \u001b[1;32mIn [4]\u001b[0m, in \u001b[0;36m<cell line: 6>\u001b[1;34m()\u001b[0m\n\u001b[0;32m      3\u001b[0m a \u001b[38;5;241m=\u001b[39m np\u001b[38;5;241m.\u001b[39marray([\u001b[38;5;241m1\u001b[39m,\u001b[38;5;241m2\u001b[39m,\u001b[38;5;241m3\u001b[39m,\u001b[38;5;241m4\u001b[39m,\u001b[38;5;241m5\u001b[39m,\u001b[38;5;241m6\u001b[39m,\u001b[38;5;241m7\u001b[39m,\u001b[38;5;241m8\u001b[39m,\u001b[38;5;241m9\u001b[39m,\u001b[38;5;241m10\u001b[39m])\n\u001b[0;32m      4\u001b[0m index_slice \u001b[38;5;241m=\u001b[39m \u001b[38;5;28mslice\u001b[39m(\u001b[38;5;241m0\u001b[39m, \u001b[38;5;241m2\u001b[39m)\n\u001b[1;32m----> 6\u001b[0m \u001b[38;5;28mprint\u001b[39m(\u001b[38;5;28;43mlen\u001b[39;49m\u001b[43m(\u001b[49m\u001b[43mindex_slice\u001b[49m\u001b[43m)\u001b[49m)\n\u001b[0;32m      7\u001b[0m \u001b[38;5;28mprint\u001b[39m(a[index_slice])\n\u001b[0;32m      8\u001b[0m \u001b[38;5;28mprint\u001b[39m(index_slice)\n",
      "\u001b[1;31mTypeError\u001b[0m: object of type 'slice' has no len()"
     ]
    }
   ],
   "source": [
    "import numpy as np\n",
    "\n",
    "a = np.array([1,2,3,4,5,6,7,8,9,10])\n",
    "index_slice = slice(0, 2)\n",
    "\n",
    "print(len(index_slice))\n",
    "print(a[index_slice])\n",
    "print(index_slice)"
   ]
  },
  {
   "cell_type": "markdown",
   "metadata": {
    "collapsed": false
   },
   "source": [
    "# concate"
   ]
  },
  {
   "cell_type": "code",
   "execution_count": 5,
   "metadata": {
    "ExecuteTime": {
     "end_time": "2023-06-26T05:44:37.358983300Z",
     "start_time": "2023-06-26T05:44:37.318979200Z"
    },
    "collapsed": false
   },
   "outputs": [
    {
     "name": "stdout",
     "output_type": "stream",
     "text": [
      "(9, 1)\n"
     ]
    }
   ],
   "source": [
    "import numpy as np\n",
    "\n",
    "a = [np.ones((4,1)), np.ones((3,1)), np.zeros((2,1))]\n",
    "\n",
    "d = np.concatenate(a, axis=0)\n",
    "\n",
    "print(d.shape)"
   ]
  },
  {
   "cell_type": "code",
   "execution_count": null,
   "metadata": {
    "collapsed": false,
    "is_executing": true
   },
   "outputs": [],
   "source": [
    "import tensorflow as tf\n",
    "\n",
    "optimizer = tf.keras.optimizers.Adam(learning_rate=0.001)\n",
    "\n",
    "print(optimizer.lr)"
   ]
  },
  {
   "cell_type": "markdown",
   "metadata": {},
   "source": [
    "# model 测试"
   ]
  },
  {
   "cell_type": "code",
   "execution_count": null,
   "metadata": {},
   "outputs": [],
   "source": []
  }
 ],
 "metadata": {
  "kernelspec": {
   "display_name": "Python 3 (ipykernel)",
   "language": "python",
   "name": "python3"
  },
  "language_info": {
   "codemirror_mode": {
    "name": "ipython",
    "version": 3
   },
   "file_extension": ".py",
   "mimetype": "text/x-python",
   "name": "python",
   "nbconvert_exporter": "python",
   "pygments_lexer": "ipython3",
   "version": "3.8.12"
  },
  "orig_nbformat": 4,
  "vscode": {
   "interpreter": {
    "hash": "6f493c71dc42a2e2ae1c2eff269ff0741b442ab38eb0f10bb199c7b1b2b203fd"
   }
  }
 },
 "nbformat": 4,
 "nbformat_minor": 2
}
