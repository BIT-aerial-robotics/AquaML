{
 "cells": [
  {
   "cell_type": "code",
   "execution_count": 1,
   "metadata": {},
   "outputs": [],
   "source": [
    "from AquaML.data.DataUnit import DataUnit\n",
    "\n",
    "a = DataUnit('test',(4,1))"
   ]
  },
  {
   "cell_type": "code",
   "execution_count": 2,
   "metadata": {},
   "outputs": [],
   "source": [
    "a.create_shared_memory()"
   ]
  }
 ],
 "metadata": {
  "kernelspec": {
   "display_name": "AquaRL",
   "language": "python",
   "name": "python3"
  },
  "language_info": {
   "codemirror_mode": {
    "name": "ipython",
    "version": 3
   },
   "file_extension": ".py",
   "mimetype": "text/x-python",
   "name": "python",
   "nbconvert_exporter": "python",
   "pygments_lexer": "ipython3",
   "version": "3.8.13"
  },
  "orig_nbformat": 4,
  "vscode": {
   "interpreter": {
    "hash": "6f493c71dc42a2e2ae1c2eff269ff0741b442ab38eb0f10bb199c7b1b2b203fd"
   }
  }
 },
 "nbformat": 4,
 "nbformat_minor": 2
}
