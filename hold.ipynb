{
 "cells": [
  {
   "cell_type": "code",
   "execution_count": 1,
   "metadata": {},
   "outputs": [],
   "source": [
    "from AquaML.data.DataUnit import DataUnit\n",
    "\n",
    "a = DataUnit('test',(4,1))"
   ]
  },
  {
   "cell_type": "code",
   "execution_count": 2,
   "metadata": {},
   "outputs": [],
   "source": [
    "a.create_shared_memory()"
   ]
  },
  {
   "cell_type": "code",
   "execution_count": 3,
   "metadata": {},
   "outputs": [],
   "source": [
    "a.store(1,0)\n",
    "a.store(2,1)"
   ]
  },
  {
   "cell_type": "code",
   "execution_count": null,
   "metadata": {},
   "outputs": [],
   "source": [
    "a.close()"
   ]
  },
  {
   "attachments": {},
   "cell_type": "markdown",
   "metadata": {},
   "source": [
    "# Test data pool"
   ]
  },
  {
   "cell_type": "code",
   "execution_count": 1,
   "metadata": {},
   "outputs": [],
   "source": [
    "from AquaML.data.DataPool import DataPool\n",
    "from AquaML.DataType import DataInfo\n",
    "from AquaML.data.DataUnit import DataUnit\n",
    "import numpy as np\n",
    "\n",
    "# create test data info\n",
    "\n",
    "test_info = DataInfo(names=('test',),shapes=((4,1),),dtypes=np.float32)\n",
    "\n",
    "test = DataPool(name='test', computer_type='PC', level=0)\n",
    "\n",
    "test1_unit = DataUnit('test1',(4,1), level=0)\n",
    "\n",
    "\n",
    "test.add_unit('test1', test1_unit)\n",
    "test_info.add_info('test1', (4,1), np.float32)\n",
    "\n",
    "\n",
    "\n",
    "test.multi_init(info_dic=test_info, type='buffer')"
   ]
  },
  {
   "cell_type": "code",
   "execution_count": 2,
   "metadata": {},
   "outputs": [],
   "source": [
    "test_sub = DataPool(name='test', computer_type='PC', level=1)\n",
    "\n",
    "sub_test1_unit = DataUnit('test1')\n",
    "test_sub.add_unit('test1', sub_test1_unit)\n",
    "\n",
    "\n",
    "test_sub.multi_init(info_dic=test_info, type='buffer')"
   ]
  },
  {
   "cell_type": "code",
   "execution_count": 3,
   "metadata": {},
   "outputs": [],
   "source": [
    "test.data_pool['test1'].set_value(np.zeros((4,1))-0.5)"
   ]
  },
  {
   "cell_type": "code",
   "execution_count": 7,
   "metadata": {},
   "outputs": [
    {
     "name": "stdout",
     "output_type": "stream",
     "text": [
      "[[-0.5]\n",
      " [-0.5]\n",
      " [-0.5]\n",
      " [-0.5]]\n"
     ]
    }
   ],
   "source": [
    "print(test_sub.get_unit('test1').buffer)"
   ]
  },
  {
   "cell_type": "code",
   "execution_count": 5,
   "metadata": {},
   "outputs": [],
   "source": [
    "test_sub.close()\n"
   ]
  },
  {
   "cell_type": "code",
   "execution_count": 2,
   "metadata": {},
   "outputs": [
    {
     "ename": "ImportError",
     "evalue": "cannot import name 'BaseRLalgo' from partially initialized module 'AquaML.rlalgo.BaseRLAlgo' (most likely due to a circular import) (d:\\和彩云同步文件夹\\15150026836\\AquaML\\AquaML\\rlalgo\\BaseRLAlgo.py)",
     "output_type": "error",
     "traceback": [
      "\u001B[1;31m---------------------------------------------------------------------------\u001B[0m",
      "\u001B[1;31mImportError\u001B[0m                               Traceback (most recent call last)",
      "\u001B[1;32md:\\和彩云同步文件夹\\15150026836\\AquaML\\hold.ipynb Cell 11\u001B[0m in \u001B[0;36m<cell line: 1>\u001B[1;34m()\u001B[0m\n\u001B[1;32m----> <a href='vscode-notebook-cell:/d%3A/%E5%92%8C%E5%BD%A9%E4%BA%91%E5%90%8C%E6%AD%A5%E6%96%87%E4%BB%B6%E5%A4%B9/15150026836/AquaML/hold.ipynb#X13sZmlsZQ%3D%3D?line=0'>1</a>\u001B[0m \u001B[39mfrom\u001B[39;00m \u001B[39mAquaML\u001B[39;00m\u001B[39m.\u001B[39;00m\u001B[39mrlalgo\u001B[39;00m \u001B[39mimport\u001B[39;00m SAC2\n\u001B[0;32m      <a href='vscode-notebook-cell:/d%3A/%E5%92%8C%E5%BD%A9%E4%BA%91%E5%90%8C%E6%AD%A5%E6%96%87%E4%BB%B6%E5%A4%B9/15150026836/AquaML/hold.ipynb#X13sZmlsZQ%3D%3D?line=2'>3</a>\u001B[0m sac \u001B[39m=\u001B[39m SAC2()\n",
      "File \u001B[1;32md:\\和彩云同步文件夹\\15150026836\\AquaML\\AquaML\\rlalgo\\SAC2.py:1\u001B[0m, in \u001B[0;36m<module>\u001B[1;34m\u001B[0m\n\u001B[1;32m----> 1\u001B[0m \u001B[39mfrom\u001B[39;00m \u001B[39mAquaML\u001B[39;00m\u001B[39m.\u001B[39;00m\u001B[39mrlalgo\u001B[39;00m\u001B[39m.\u001B[39;00m\u001B[39mBaseRLAlgo\u001B[39;00m \u001B[39mimport\u001B[39;00m BaseRLAlgo\n\u001B[0;32m      2\u001B[0m \u001B[39mfrom\u001B[39;00m \u001B[39mAquaML\u001B[39;00m\u001B[39m.\u001B[39;00m\u001B[39mDataType\u001B[39;00m \u001B[39mimport\u001B[39;00m RLIOInfo\n\u001B[0;32m      3\u001B[0m \u001B[39mfrom\u001B[39;00m \u001B[39mAquaML\u001B[39;00m\u001B[39m.\u001B[39;00m\u001B[39mrlalgo\u001B[39;00m\u001B[39m.\u001B[39;00m\u001B[39mParameters\u001B[39;00m \u001B[39mimport\u001B[39;00m SAC2_parameter\n",
      "File \u001B[1;32md:\\和彩云同步文件夹\\15150026836\\AquaML\\AquaML\\rlalgo\\BaseRLAlgo.py:7\u001B[0m, in \u001B[0;36m<module>\u001B[1;34m\u001B[0m\n\u001B[0;32m      5\u001B[0m \u001B[39mfrom\u001B[39;00m \u001B[39mAquaML\u001B[39;00m\u001B[39m.\u001B[39;00m\u001B[39mdata\u001B[39;00m\u001B[39m.\u001B[39;00m\u001B[39mDataUnit\u001B[39;00m \u001B[39mimport\u001B[39;00m DataUnit\n\u001B[0;32m      6\u001B[0m \u001B[39mfrom\u001B[39;00m \u001B[39mAquaML\u001B[39;00m\u001B[39m.\u001B[39;00m\u001B[39mrlalgo\u001B[39;00m \u001B[39mimport\u001B[39;00m ExplorePolicy\n\u001B[1;32m----> 7\u001B[0m \u001B[39mfrom\u001B[39;00m \u001B[39mAquaML\u001B[39;00m\u001B[39m.\u001B[39;00m\u001B[39mtool\u001B[39;00m\u001B[39m.\u001B[39;00m\u001B[39mRLWorker\u001B[39;00m \u001B[39mimport\u001B[39;00m RLWorker\n\u001B[0;32m      8\u001B[0m \u001B[39mfrom\u001B[39;00m \u001B[39mAquaML\u001B[39;00m\u001B[39m.\u001B[39;00m\u001B[39mBaseClass\u001B[39;00m \u001B[39mimport\u001B[39;00m BaseAlgo\n\u001B[0;32m      9\u001B[0m \u001B[39mimport\u001B[39;00m \u001B[39mnumpy\u001B[39;00m \u001B[39mas\u001B[39;00m \u001B[39mnp\u001B[39;00m\n",
      "File \u001B[1;32md:\\和彩云同步文件夹\\15150026836\\AquaML\\AquaML\\tool\\RLWorker.py:6\u001B[0m, in \u001B[0;36m<module>\u001B[1;34m\u001B[0m\n\u001B[0;32m      2\u001B[0m \u001B[39mfrom\u001B[39;00m \u001B[39mAquaML\u001B[39;00m\u001B[39m.\u001B[39;00m\u001B[39mDataType\u001B[39;00m \u001B[39mimport\u001B[39;00m RLIOInfo \n\u001B[0;32m      4\u001B[0m \u001B[39m#TODO: remove in the future\u001B[39;00m\n\u001B[0;32m      5\u001B[0m \u001B[39m#TODO: 太过于复杂，需要重构\u001B[39;00m\n\u001B[1;32m----> 6\u001B[0m \u001B[39mfrom\u001B[39;00m \u001B[39mAquaML\u001B[39;00m\u001B[39m.\u001B[39;00m\u001B[39mrlalgo\u001B[39;00m\u001B[39m.\u001B[39;00m\u001B[39mBaseRLAlgo\u001B[39;00m \u001B[39mimport\u001B[39;00m BaseRLalgo \n\u001B[0;32m      8\u001B[0m \u001B[39mclass\u001B[39;00m \u001B[39mRLWorker\u001B[39;00m:\n\u001B[0;32m     10\u001B[0m \u001B[39m    \u001B[39m\u001B[39m\"\"\" RLWorker is used to interact with environment and get data.\u001B[39;00m\n\u001B[0;32m     11\u001B[0m \u001B[39m    \u001B[39;00m\n\u001B[0;32m     12\u001B[0m \u001B[39m    It can be used in on-policy and off-policy reinforcement learning.\u001B[39;00m\n\u001B[0;32m     13\u001B[0m \u001B[39m    \u001B[39;00m\n\u001B[0;32m     14\u001B[0m \u001B[39m    \"\"\"\u001B[39;00m\n",
      "\u001B[1;31mImportError\u001B[0m: cannot import name 'BaseRLalgo' from partially initialized module 'AquaML.rlalgo.BaseRLAlgo' (most likely due to a circular import) (d:\\和彩云同步文件夹\\15150026836\\AquaML\\AquaML\\rlalgo\\BaseRLAlgo.py)"
     ]
    }
   ],
   "source": [
    "from AquaML.rlalgo import SAC2\n",
    "\n",
    "sac = SAC2()"
   ]
  }
 ],
 "metadata": {
  "kernelspec": {
   "display_name": "AquaRL",
   "language": "python",
   "name": "python3"
  },
  "language_info": {
   "codemirror_mode": {
    "name": "ipython",
    "version": 3
   },
   "file_extension": ".py",
   "mimetype": "text/x-python",
   "name": "python",
   "nbconvert_exporter": "python",
   "pygments_lexer": "ipython3",
   "version": "3.8.13"
  },
  "orig_nbformat": 4,
  "vscode": {
   "interpreter": {
    "hash": "6f493c71dc42a2e2ae1c2eff269ff0741b442ab38eb0f10bb199c7b1b2b203fd"
   }
  }
 },
 "nbformat": 4,
 "nbformat_minor": 2
}
